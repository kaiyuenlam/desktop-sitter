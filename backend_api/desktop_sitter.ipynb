{
  "cells": [
    {
      "cell_type": "code",
      "execution_count": 1,
      "metadata": {
        "colab": {
          "base_uri": "https://localhost:8080/"
        },
        "collapsed": true,
        "id": "0ftBwAG-HPmE",
        "outputId": "1ed50881-869a-4cb8-a74f-7a4da513e71a"
      },
      "outputs": [
        {
          "output_type": "stream",
          "name": "stdout",
          "text": [
            "\u001b[33mWARNING: Ignoring invalid distribution ~oogle-genai (/usr/local/lib/python3.11/dist-packages)\u001b[0m\u001b[33m\n",
            "\u001b[0m\u001b[33mWARNING: Ignoring invalid distribution ~oogle-genai (/usr/local/lib/python3.11/dist-packages)\u001b[0m\u001b[33m\n",
            "\u001b[0mRequirement already satisfied: pyngrok in /usr/local/lib/python3.11/dist-packages (7.2.5)\n",
            "Requirement already satisfied: PyYAML>=5.1 in /usr/local/lib/python3.11/dist-packages (from pyngrok) (6.0.2)\n",
            "\u001b[33mWARNING: Ignoring invalid distribution ~oogle-genai (/usr/local/lib/python3.11/dist-packages)\u001b[0m\u001b[33m\n",
            "\u001b[0m\u001b[33mWARNING: Ignoring invalid distribution ~oogle-genai (/usr/local/lib/python3.11/dist-packages)\u001b[0m\u001b[33m\n",
            "\u001b[0m\u001b[33mWARNING: Ignoring invalid distribution ~oogle-genai (/usr/local/lib/python3.11/dist-packages)\u001b[0m\u001b[33m\n",
            "\u001b[0mRequirement already satisfied: deepface==0.0.75 in /usr/local/lib/python3.11/dist-packages (0.0.75)\n",
            "Requirement already satisfied: tensorflow==2.12.0 in /usr/local/lib/python3.11/dist-packages (2.12.0)\n",
            "Requirement already satisfied: keras==2.12.0 in /usr/local/lib/python3.11/dist-packages (2.12.0)\n",
            "Requirement already satisfied: opencv-python-headless in /usr/local/lib/python3.11/dist-packages (4.11.0.86)\n",
            "Requirement already satisfied: numpy>=1.14.0 in /usr/local/lib/python3.11/dist-packages (from deepface==0.0.75) (1.23.5)\n",
            "Requirement already satisfied: pandas>=0.23.4 in /usr/local/lib/python3.11/dist-packages (from deepface==0.0.75) (2.2.2)\n",
            "Requirement already satisfied: tqdm>=4.30.0 in /usr/local/lib/python3.11/dist-packages (from deepface==0.0.75) (4.67.1)\n",
            "Requirement already satisfied: gdown>=3.10.1 in /usr/local/lib/python3.11/dist-packages (from deepface==0.0.75) (5.2.0)\n",
            "Requirement already satisfied: Pillow>=5.2.0 in /usr/local/lib/python3.11/dist-packages (from deepface==0.0.75) (11.1.0)\n",
            "Requirement already satisfied: opencv-python>=4.5.5.64 in /usr/local/lib/python3.11/dist-packages (from deepface==0.0.75) (4.11.0.86)\n",
            "Requirement already satisfied: Flask>=1.1.2 in /usr/local/lib/python3.11/dist-packages (from deepface==0.0.75) (3.1.0)\n",
            "Requirement already satisfied: mtcnn>=0.1.0 in /usr/local/lib/python3.11/dist-packages (from deepface==0.0.75) (1.0.0)\n",
            "Requirement already satisfied: retina-face>=0.0.1 in /usr/local/lib/python3.11/dist-packages (from deepface==0.0.75) (0.0.17)\n",
            "Requirement already satisfied: fire>=0.4.0 in /usr/local/lib/python3.11/dist-packages (from deepface==0.0.75) (0.7.0)\n",
            "Requirement already satisfied: absl-py>=1.0.0 in /usr/local/lib/python3.11/dist-packages (from tensorflow==2.12.0) (1.4.0)\n",
            "Requirement already satisfied: astunparse>=1.6.0 in /usr/local/lib/python3.11/dist-packages (from tensorflow==2.12.0) (1.6.3)\n",
            "Requirement already satisfied: flatbuffers>=2.0 in /usr/local/lib/python3.11/dist-packages (from tensorflow==2.12.0) (25.2.10)\n",
            "Requirement already satisfied: gast<=0.4.0,>=0.2.1 in /usr/local/lib/python3.11/dist-packages (from tensorflow==2.12.0) (0.4.0)\n",
            "Requirement already satisfied: google-pasta>=0.1.1 in /usr/local/lib/python3.11/dist-packages (from tensorflow==2.12.0) (0.2.0)\n",
            "Requirement already satisfied: grpcio<2.0,>=1.24.3 in /usr/local/lib/python3.11/dist-packages (from tensorflow==2.12.0) (1.71.0)\n",
            "Requirement already satisfied: h5py>=2.9.0 in /usr/local/lib/python3.11/dist-packages (from tensorflow==2.12.0) (3.13.0)\n",
            "Requirement already satisfied: jax>=0.3.15 in /usr/local/lib/python3.11/dist-packages (from tensorflow==2.12.0) (0.4.30)\n",
            "Requirement already satisfied: libclang>=13.0.0 in /usr/local/lib/python3.11/dist-packages (from tensorflow==2.12.0) (18.1.1)\n",
            "Requirement already satisfied: opt-einsum>=2.3.2 in /usr/local/lib/python3.11/dist-packages (from tensorflow==2.12.0) (3.4.0)\n",
            "Requirement already satisfied: packaging in /usr/local/lib/python3.11/dist-packages (from tensorflow==2.12.0) (24.2)\n",
            "Requirement already satisfied: protobuf!=4.21.0,!=4.21.1,!=4.21.2,!=4.21.3,!=4.21.4,!=4.21.5,<5.0.0dev,>=3.20.3 in /usr/local/lib/python3.11/dist-packages (from tensorflow==2.12.0) (4.25.7)\n",
            "Requirement already satisfied: setuptools in /usr/local/lib/python3.11/dist-packages (from tensorflow==2.12.0) (75.2.0)\n",
            "Requirement already satisfied: six>=1.12.0 in /usr/local/lib/python3.11/dist-packages (from tensorflow==2.12.0) (1.17.0)\n",
            "Requirement already satisfied: tensorboard<2.13,>=2.12 in /usr/local/lib/python3.11/dist-packages (from tensorflow==2.12.0) (2.12.3)\n",
            "Requirement already satisfied: tensorflow-estimator<2.13,>=2.12.0 in /usr/local/lib/python3.11/dist-packages (from tensorflow==2.12.0) (2.12.0)\n",
            "Requirement already satisfied: termcolor>=1.1.0 in /usr/local/lib/python3.11/dist-packages (from tensorflow==2.12.0) (3.0.1)\n",
            "Requirement already satisfied: typing-extensions>=3.6.6 in /usr/local/lib/python3.11/dist-packages (from tensorflow==2.12.0) (4.13.2)\n",
            "Requirement already satisfied: wrapt<1.15,>=1.11.0 in /usr/local/lib/python3.11/dist-packages (from tensorflow==2.12.0) (1.14.1)\n",
            "Requirement already satisfied: tensorflow-io-gcs-filesystem>=0.23.1 in /usr/local/lib/python3.11/dist-packages (from tensorflow==2.12.0) (0.37.1)\n",
            "Requirement already satisfied: wheel<1.0,>=0.23.0 in /usr/local/lib/python3.11/dist-packages (from astunparse>=1.6.0->tensorflow==2.12.0) (0.45.1)\n",
            "Requirement already satisfied: Werkzeug>=3.1 in /usr/local/lib/python3.11/dist-packages (from Flask>=1.1.2->deepface==0.0.75) (3.1.3)\n",
            "Requirement already satisfied: Jinja2>=3.1.2 in /usr/local/lib/python3.11/dist-packages (from Flask>=1.1.2->deepface==0.0.75) (3.1.6)\n",
            "Requirement already satisfied: itsdangerous>=2.2 in /usr/local/lib/python3.11/dist-packages (from Flask>=1.1.2->deepface==0.0.75) (2.2.0)\n",
            "Requirement already satisfied: click>=8.1.3 in /usr/local/lib/python3.11/dist-packages (from Flask>=1.1.2->deepface==0.0.75) (8.1.8)\n",
            "Requirement already satisfied: blinker>=1.9 in /usr/local/lib/python3.11/dist-packages (from Flask>=1.1.2->deepface==0.0.75) (1.9.0)\n",
            "Requirement already satisfied: beautifulsoup4 in /usr/local/lib/python3.11/dist-packages (from gdown>=3.10.1->deepface==0.0.75) (4.13.4)\n",
            "Requirement already satisfied: filelock in /usr/local/lib/python3.11/dist-packages (from gdown>=3.10.1->deepface==0.0.75) (3.18.0)\n",
            "Requirement already satisfied: requests[socks] in /usr/local/lib/python3.11/dist-packages (from gdown>=3.10.1->deepface==0.0.75) (2.32.3)\n",
            "Requirement already satisfied: jaxlib<=0.4.30,>=0.4.27 in /usr/local/lib/python3.11/dist-packages (from jax>=0.3.15->tensorflow==2.12.0) (0.4.30)\n",
            "Requirement already satisfied: ml-dtypes>=0.2.0 in /usr/local/lib/python3.11/dist-packages (from jax>=0.3.15->tensorflow==2.12.0) (0.4.1)\n",
            "Requirement already satisfied: scipy>=1.9 in /usr/local/lib/python3.11/dist-packages (from jax>=0.3.15->tensorflow==2.12.0) (1.14.1)\n",
            "Requirement already satisfied: joblib>=1.4.2 in /usr/local/lib/python3.11/dist-packages (from mtcnn>=0.1.0->deepface==0.0.75) (1.4.2)\n",
            "Requirement already satisfied: lz4>=4.3.3 in /usr/local/lib/python3.11/dist-packages (from mtcnn>=0.1.0->deepface==0.0.75) (4.4.4)\n",
            "Requirement already satisfied: python-dateutil>=2.8.2 in /usr/local/lib/python3.11/dist-packages (from pandas>=0.23.4->deepface==0.0.75) (2.8.2)\n",
            "Requirement already satisfied: pytz>=2020.1 in /usr/local/lib/python3.11/dist-packages (from pandas>=0.23.4->deepface==0.0.75) (2025.2)\n",
            "Requirement already satisfied: tzdata>=2022.7 in /usr/local/lib/python3.11/dist-packages (from pandas>=0.23.4->deepface==0.0.75) (2025.2)\n",
            "Requirement already satisfied: google-auth<3,>=1.6.3 in /usr/local/lib/python3.11/dist-packages (from tensorboard<2.13,>=2.12->tensorflow==2.12.0) (2.38.0)\n",
            "Requirement already satisfied: google-auth-oauthlib<1.1,>=0.5 in /usr/local/lib/python3.11/dist-packages (from tensorboard<2.13,>=2.12->tensorflow==2.12.0) (1.0.0)\n",
            "Requirement already satisfied: markdown>=2.6.8 in /usr/local/lib/python3.11/dist-packages (from tensorboard<2.13,>=2.12->tensorflow==2.12.0) (3.8)\n",
            "Requirement already satisfied: tensorboard-data-server<0.8.0,>=0.7.0 in /usr/local/lib/python3.11/dist-packages (from tensorboard<2.13,>=2.12->tensorflow==2.12.0) (0.7.2)\n",
            "Requirement already satisfied: cachetools<6.0,>=2.0.0 in /usr/local/lib/python3.11/dist-packages (from google-auth<3,>=1.6.3->tensorboard<2.13,>=2.12->tensorflow==2.12.0) (5.5.2)\n",
            "Requirement already satisfied: pyasn1-modules>=0.2.1 in /usr/local/lib/python3.11/dist-packages (from google-auth<3,>=1.6.3->tensorboard<2.13,>=2.12->tensorflow==2.12.0) (0.4.2)\n",
            "Requirement already satisfied: rsa<5,>=3.1.4 in /usr/local/lib/python3.11/dist-packages (from google-auth<3,>=1.6.3->tensorboard<2.13,>=2.12->tensorflow==2.12.0) (4.9.1)\n",
            "Requirement already satisfied: requests-oauthlib>=0.7.0 in /usr/local/lib/python3.11/dist-packages (from google-auth-oauthlib<1.1,>=0.5->tensorboard<2.13,>=2.12->tensorflow==2.12.0) (2.0.0)\n",
            "Requirement already satisfied: MarkupSafe>=2.0 in /usr/local/lib/python3.11/dist-packages (from Jinja2>=3.1.2->Flask>=1.1.2->deepface==0.0.75) (3.0.2)\n",
            "Requirement already satisfied: charset-normalizer<4,>=2 in /usr/local/lib/python3.11/dist-packages (from requests[socks]->gdown>=3.10.1->deepface==0.0.75) (3.4.1)\n",
            "Requirement already satisfied: idna<4,>=2.5 in /usr/local/lib/python3.11/dist-packages (from requests[socks]->gdown>=3.10.1->deepface==0.0.75) (3.10)\n",
            "Requirement already satisfied: urllib3<3,>=1.21.1 in /usr/local/lib/python3.11/dist-packages (from requests[socks]->gdown>=3.10.1->deepface==0.0.75) (2.3.0)\n",
            "Requirement already satisfied: certifi>=2017.4.17 in /usr/local/lib/python3.11/dist-packages (from requests[socks]->gdown>=3.10.1->deepface==0.0.75) (2025.1.31)\n",
            "Requirement already satisfied: soupsieve>1.2 in /usr/local/lib/python3.11/dist-packages (from beautifulsoup4->gdown>=3.10.1->deepface==0.0.75) (2.6)\n",
            "Requirement already satisfied: PySocks!=1.5.7,>=1.5.6 in /usr/local/lib/python3.11/dist-packages (from requests[socks]->gdown>=3.10.1->deepface==0.0.75) (1.7.1)\n",
            "Requirement already satisfied: pyasn1<0.7.0,>=0.6.1 in /usr/local/lib/python3.11/dist-packages (from pyasn1-modules>=0.2.1->google-auth<3,>=1.6.3->tensorboard<2.13,>=2.12->tensorflow==2.12.0) (0.6.1)\n",
            "Requirement already satisfied: oauthlib>=3.0.0 in /usr/local/lib/python3.11/dist-packages (from requests-oauthlib>=0.7.0->google-auth-oauthlib<1.1,>=0.5->tensorboard<2.13,>=2.12->tensorflow==2.12.0) (3.2.2)\n",
            "\u001b[33mWARNING: Ignoring invalid distribution ~oogle-genai (/usr/local/lib/python3.11/dist-packages)\u001b[0m\u001b[33m\n",
            "\u001b[0m\u001b[33mWARNING: Ignoring invalid distribution ~oogle-genai (/usr/local/lib/python3.11/dist-packages)\u001b[0m\u001b[33m\n",
            "\u001b[0m\u001b[33mWARNING: Ignoring invalid distribution ~oogle-genai (/usr/local/lib/python3.11/dist-packages)\u001b[0m\u001b[33m\n",
            "\u001b[0m\u001b[33mWARNING: Ignoring invalid distribution ~oogle-genai (/usr/local/lib/python3.11/dist-packages)\u001b[0m\u001b[33m\n",
            "\u001b[0m\u001b[33mWARNING: Ignoring invalid distribution ~oogle-genai (/usr/local/lib/python3.11/dist-packages)\u001b[0m\u001b[33m\n",
            "\u001b[0m"
          ]
        }
      ],
      "source": [
        "!pip install pyngrok\n",
        "!pip install deepface==0.0.75 tensorflow==2.12.0 keras==2.12.0 opencv-python-headless\n",
        "!pip install -q -U google-genai"
      ]
    },
    {
      "cell_type": "code",
      "execution_count": 2,
      "metadata": {
        "colab": {
          "base_uri": "https://localhost:8080/"
        },
        "id": "vnGTmkBEE4jA",
        "outputId": "6c12262d-9266-456e-9b0b-17abc3ecd981"
      },
      "outputs": [
        {
          "name": "stdout",
          "output_type": "stream",
          "text": [
            "Enter your ngrok v2 authtoken (from https://dashboard.ngrok.com/auth):\n",
            "··········\n"
          ]
        }
      ],
      "source": [
        "import getpass\n",
        "from pyngrok import conf\n",
        "\n",
        "print(\"Enter your ngrok v2 authtoken (from https://dashboard.ngrok.com/auth):\")\n",
        "conf.get_default().auth_token = getpass.getpass()"
      ]
    },
    {
      "cell_type": "code",
      "execution_count": 3,
      "metadata": {
        "colab": {
          "base_uri": "https://localhost:8080/"
        },
        "id": "wS5MS_RorbLk",
        "outputId": "a5bd7566-fd58-465a-dbc9-c7607fe42620"
      },
      "outputs": [
        {
          "name": "stdout",
          "output_type": "stream",
          "text": [
            "Enter your Google GenAI API key:\n",
            "··········\n"
          ]
        }
      ],
      "source": [
        "from google import genai\n",
        "\n",
        "print(\"Enter your Google GenAI API key:\")\n",
        "client = genai.Client(api_key=getpass.getpass())"
      ]
    },
    {
      "cell_type": "code",
      "execution_count": 4,
      "metadata": {
        "id": "2OA2NsZW-5S8"
      },
      "outputs": [],
      "source": [
        "GEMINI_PROMPT_TEMPLATE = \"\"\"\n",
        "You are a friendly AI companion sitting on a user's desktop. Based on the current context, the detected emotion is: \"{emotion}\".\n",
        "\n",
        "Your task is to speak directly to the user with a short, warm, and emotionally supportive message.\n",
        "\n",
        "⚠️ Do not explain what you see in the image or describe facial expressions.\n",
        "⚠️ Do not mention the image, model, detection, or any analysis.\n",
        "\n",
        "Just speak like a caring friend or digital buddy who notices the user's mood.\n",
        "\n",
        "Tone: gentle, kind, and encouraging.\n",
        "Length: 1–2 sentences. No more than 30 words.\n",
        "\"\"\"\n",
        "\n",
        "\n",
        "GEMINI_NO_FACE_PROMPT = \"\"\"\n",
        "You are a friendly AI companion on the user's desktop. No face was detected in the camera feed.\n",
        "\n",
        "Still, write a short message to the user — perhaps they’ve stepped away or the camera didn’t catch them.\n",
        "\n",
        "⚠️ Do not mention the detection or the image.\n",
        "⚠️ Do not say anything about faces, models, or analysis.\n",
        "\n",
        "Just offer a light, kind message as if you're keeping them company.\n",
        "\n",
        "Tone: thoughtful, relaxed, and supportive.\n",
        "Length: 1–2 sentences. No more than 30 words.\n",
        "\"\"\"\n",
        "\n"
      ]
    },
    {
      "cell_type": "code",
      "execution_count": 5,
      "metadata": {
        "id": "aU4KKS23z_4k"
      },
      "outputs": [],
      "source": [
        "import base64\n",
        "import google.generativeai as genai\n",
        "\n",
        "def image_bytes_to_base64_str(img_bytes):\n",
        "    encoded_bytes = base64.b64encode(img_bytes)\n",
        "    base64_str = encoded_bytes.decode('utf-8')\n",
        "    return base64_str\n",
        "\n",
        "\n",
        "def send_image_to_gemini(image, detected_emotion=None):\n",
        "    prompt = (\n",
        "        GEMINI_PROMPT_TEMPLATE.format(emotion=detected_emotion)\n",
        "        if detected_emotion\n",
        "        else GEMINI_NO_FACE_PROMPT\n",
        "    )\n",
        "\n",
        "    try:\n",
        "\n",
        "        response = client.models.generate_content(\n",
        "            model=\"gemini-2.0-flash\",\n",
        "            contents=[\n",
        "                image,\n",
        "                prompt\n",
        "            ]\n",
        "        )\n",
        "        return response.text.strip()\n",
        "    except Exception as e:\n",
        "        return f\"[Gemini Error] {str(e)}\""
      ]
    },
    {
      "cell_type": "code",
      "execution_count": null,
      "metadata": {
        "colab": {
          "base_uri": "https://localhost:8080/"
        },
        "id": "X05QgqxB15cR",
        "outputId": "b2a4d4c6-41e6-4d96-d23b-4c0834c93041"
      },
      "outputs": [
        {
          "output_type": "stream",
          "name": "stdout",
          "text": [
            "Directory  /root /.deepface created\n",
            "Directory  /root /.deepface/weights created\n",
            " * ngrok tunnel: https://5a53-35-236-242-57.ngrok-free.app → http://127.0.0.1:5000\n",
            " * Serving Flask app '__main__'\n",
            " * Debug mode: on\n"
          ]
        },
        {
          "output_type": "stream",
          "name": "stderr",
          "text": [
            "INFO:werkzeug:\u001b[31m\u001b[1mWARNING: This is a development server. Do not use it in a production deployment. Use a production WSGI server instead.\u001b[0m\n",
            " * Running on all addresses (0.0.0.0)\n",
            " * Running on http://127.0.0.1:5000\n",
            " * Running on http://172.28.0.12:5000\n",
            "INFO:werkzeug:\u001b[33mPress CTRL+C to quit\u001b[0m\n",
            "INFO:werkzeug:127.0.0.1 - - [24/Apr/2025 07:05:45] \"POST /emotion HTTP/1.1\" 200 -\n",
            "INFO:werkzeug:127.0.0.1 - - [24/Apr/2025 07:06:38] \"POST /emotion HTTP/1.1\" 200 -\n"
          ]
        }
      ],
      "source": [
        "\n",
        "import numpy as np\n",
        "import cv2\n",
        "from flask import Flask, request, jsonify\n",
        "from pyngrok import ngrok\n",
        "from deepface import DeepFace\n",
        "\n",
        "from deepface.commons import functions\n",
        "from IPython.display import display\n",
        "import matplotlib.pyplot as plt\n",
        "from PIL import Image\n",
        "import io\n",
        "\n",
        "# 1) Choose the port your Flask app will listen on\n",
        "PORT = 5000\n",
        "\n",
        "# 2) Open a public ngrok tunnel to that port\n",
        "public_url = ngrok.connect(PORT, bind_tls=True).public_url\n",
        "print(f\" * ngrok tunnel: {public_url} → http://127.0.0.1:{PORT}\")\n",
        "\n",
        "# 3) Define your Flask app\n",
        "app = Flask(__name__)\n",
        "\n",
        "@app.route(\"/emotion\", methods=[\"POST\"])\n",
        "def emotion():\n",
        "    img_bytes = request.get_data()\n",
        "    if not img_bytes:\n",
        "        return jsonify({\n",
        "            \"status\": \"error\",\n",
        "            \"error\": \"no image data\"\n",
        "        }), 200\n",
        "\n",
        "    arr = np.frombuffer(img_bytes, dtype=np.uint8)\n",
        "    frame = cv2.imdecode(arr, cv2.IMREAD_COLOR)\n",
        "    if frame is None:\n",
        "        return jsonify({\n",
        "            \"status\": \"error\",\n",
        "            \"error\": \"invalid image\"\n",
        "        }), 200\n",
        "\n",
        "    # Save temp image\n",
        "    import tempfile, os, traceback\n",
        "    tmpf = tempfile.NamedTemporaryFile(suffix=\".jpg\", delete=False)\n",
        "    cv2.imwrite(tmpf.name, frame)\n",
        "\n",
        "    try:\n",
        "        # Preprocess ROI\n",
        "        roi_img, region = functions.preprocess_face(\n",
        "            img=tmpf.name,\n",
        "            detector_backend=\"opencv\",\n",
        "            enforce_detection=True,\n",
        "            return_region=True\n",
        "        )\n",
        "\n",
        "        roi_img = np.squeeze(roi_img)\n",
        "        if roi_img.ndim == 2:\n",
        "            plt.imshow(roi_img, cmap='gray')\n",
        "        else:\n",
        "            plt.imshow(roi_img)\n",
        "        plt.axis('off')\n",
        "        plt.title(\"Extracted Face ROI\")\n",
        "        display(plt.gcf())\n",
        "        plt.close()\n",
        "\n",
        "        # DeepFace emotion\n",
        "        res = DeepFace.analyze(\n",
        "            img_path=tmpf.name,\n",
        "            actions=[\"emotion\"],\n",
        "            enforce_detection=True,\n",
        "            detector_backend=\"opencv\"\n",
        "        )\n",
        "        if isinstance(res, list):\n",
        "            res = res[0]\n",
        "\n",
        "        dom = res.get(\"dominant_emotion\", \"neutral\").lower()\n",
        "        scr = res.get(\"emotion\", {})\n",
        "\n",
        "        image = Image.open(io.BytesIO(img_bytes))\n",
        "        gemini_msg = send_image_to_gemini(image, detected_emotion=dom)\n",
        "\n",
        "        return jsonify({\n",
        "            \"status\": \"ok\",\n",
        "            \"result\": {\n",
        "                \"dominant_emotion\": dom,\n",
        "                \"gemini_interpretation\": gemini_msg\n",
        "            }\n",
        "        }), 200\n",
        "\n",
        "    except ValueError:\n",
        "        image = Image.open(io.BytesIO(img_bytes))\n",
        "        gemini_msg = send_image_to_gemini(image, detected_emotion=None)\n",
        "\n",
        "        return jsonify({\n",
        "            \"status\": \"reinit_required\",\n",
        "            \"error\": \"Face not detected\",\n",
        "            \"gemini_interpretation\": gemini_msg\n",
        "        }), 200\n",
        "\n",
        "    except Exception as e:\n",
        "        traceback.print_exc()\n",
        "        return jsonify({\n",
        "            \"status\": \"error\",\n",
        "            \"error\": str(e)\n",
        "        }), 500\n",
        "\n",
        "    finally:\n",
        "        os.remove(tmpf.name)\n",
        "\n",
        "\n",
        "# 4) Run Flask in foreground (so you see any errors immediately)\n",
        "app.run(host=\"0.0.0.0\", port=PORT, debug=True, use_reloader=False)\n",
        "\n"
      ]
    }
  ],
  "metadata": {
    "accelerator": "GPU",
    "colab": {
      "gpuType": "T4",
      "provenance": []
    },
    "kernelspec": {
      "display_name": "Python 3",
      "name": "python3"
    },
    "language_info": {
      "name": "python"
    }
  },
  "nbformat": 4,
  "nbformat_minor": 0
}